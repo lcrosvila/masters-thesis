{
 "cells": [
  {
   "cell_type": "code",
   "execution_count": 1,
   "metadata": {},
   "outputs": [],
   "source": [
    "import os\n",
    "import sys\n",
    "\n",
    "%matplotlib inline\n",
    "import time\n",
    "import pylab as pl\n",
    "from IPython import display\n",
    "\n",
    "import numpy as np\n",
    "import argparse\n",
    "import h5py\n",
    "import math\n",
    "import time\n",
    "import logging\n",
    "import matplotlib.pyplot as plt\n",
    "import torchvision\n",
    "from sklearn import metrics\n",
    "import _pickle as cPickle\n",
    "import shutil\n",
    "\n",
    "from tqdm import tqdm_notebook as tqdm\n",
    "import torch\n",
    "\n",
    "import torch.nn as nn\n",
    "import torch.nn.functional as F\n",
    "import torch.optim as optim\n",
    "\n",
    "from models import CNN_two, Cnn6\n",
    "from data_generator import medleyDataset, medleyDataset_logmel, medleyDataset_audio, get_mean_var\n",
    "\n",
    "from losses import get_loss_func\n",
    "from metrics import macro_f1, instrument_f1"
   ]
  },
  {
   "cell_type": "code",
   "execution_count": 2,
   "metadata": {},
   "outputs": [],
   "source": [
    "def save_checkpoint(state, is_best, directory, filename='checkpoint.pth.tar'):\n",
    "    if not directory == None:\n",
    "        if not os.path.exists(directory):\n",
    "            os.makedirs(directory)\n",
    "\n",
    "        filename = os.path.join(directory, filename)\n",
    "        torch.save(state, filename)\n",
    "        if is_best:\n",
    "            shutil.copyfile(filename, os.path.join(directory,'model_best.pth.tar'))"
   ]
  },
  {
   "cell_type": "code",
   "execution_count": 3,
   "metadata": {},
   "outputs": [
    {
     "name": "stdout",
     "output_type": "stream",
     "text": [
      "3162\n",
      "233\n"
     ]
    }
   ],
   "source": [
    "# scatter_type = '6_8_33075'\n",
    "scatter_type = '9_8_132300'\n",
    "# scatter_type = 'logmel'\n",
    "\n",
    "train_dir = '/home/laura/MedleyDB/processed/'+scatter_type+'/train'\n",
    "val_dir = '/home/laura/MedleyDB/processed/'+scatter_type+'/val'\n",
    "\n",
    "classes_num = 16\n",
    "if scatter_type == 'logmel':\n",
    "    mean_logmel, var_logmel = get_mean_var(train_dir)\n",
    "    time_steps = 827\n",
    "    freq_bins = 64\n",
    "    \n",
    "    train_dataset = medleyDataset_logmel(\n",
    "        train_dir, \n",
    "        time_steps, \n",
    "        freq_bins, \n",
    "        classes_num, \n",
    "        mean_logmel, \n",
    "        var_logmel\n",
    "    )\n",
    "    val_dataset = medleyDataset_logmel(\n",
    "        val_dir, \n",
    "        time_steps, \n",
    "        freq_bins, \n",
    "        classes_num, \n",
    "        mean_logmel, \n",
    "        var_logmel\n",
    "    )\n",
    "    \n",
    "else:\n",
    "    if scatter_type == '9_8_132300':\n",
    "        input_length = 259\n",
    "        order1_length = 62\n",
    "        order2_length = 237\n",
    "    elif scatter_type == '6_8_33075':\n",
    "        input_length = 517\n",
    "        order1_length = 38\n",
    "        order2_length = 87\n",
    "    \n",
    "    mean_order1, var_order1, mean_order2, var_order2 = get_mean_var(train_dir)\n",
    "    train_dataset = medleyDataset(\n",
    "        train_dir,\n",
    "        input_length,\n",
    "        order1_length,\n",
    "        order2_length,\n",
    "        classes_num,\n",
    "        mean_order1,\n",
    "        var_order1,\n",
    "        mean_order2,\n",
    "        var_order2\n",
    "    )\n",
    "    val_dataset = medleyDataset(\n",
    "        val_dir,\n",
    "        input_length,\n",
    "        order1_length,\n",
    "        order2_length,\n",
    "        classes_num,\n",
    "        mean_order1,\n",
    "        var_order1,\n",
    "        mean_order2,\n",
    "        var_order2\n",
    "    )\n",
    "    \n",
    "train_loader = torch.utils.data.DataLoader(\n",
    "    train_dataset,\n",
    "    batch_size=32,\n",
    "    num_workers=os.cpu_count(),\n",
    "    shuffle=True,\n",
    "    drop_last=True\n",
    ")\n",
    "\n",
    "val_loader = torch.utils.data.DataLoader(\n",
    "    val_dataset,\n",
    "    batch_size=1,\n",
    "    num_workers=os.cpu_count(),\n",
    "    shuffle=True\n",
    ")\n",
    "\n",
    "print(len(train_dataset))\n",
    "print(len(val_dataset))"
   ]
  },
  {
   "cell_type": "code",
   "execution_count": 4,
   "metadata": {},
   "outputs": [],
   "source": [
    "if scatter_type == \"logmel\":\n",
    "    model = Cnn6(\n",
    "        classes_num=classes_num,\n",
    "        time_steps=time_steps,\n",
    "        freq_bins=freq_bins,\n",
    "        spec_aug=False,\n",
    "    )\n",
    "else:\n",
    "    model = CNN_two(\n",
    "        classes_num=classes_num,\n",
    "        input_length=input_length,\n",
    "        order1_length=order1_length,\n",
    "        order2_length=order2_length,\n",
    "    )\n",
    "\n",
    "model.cuda()\n",
    "\n",
    "loss_func = nn.BCELoss()\n",
    "optimizer = optim.Adam(model.parameters())\n",
    "# optimizer = optim.AdamW(model.parameters())\n",
    "# optimizer = optim.ASGD(model.parameters())"
   ]
  },
  {
   "cell_type": "code",
   "execution_count": 5,
   "metadata": {},
   "outputs": [
    {
     "name": "stdout",
     "output_type": "stream",
     "text": [
      "CNN_two(\n",
      "  (conv_block1): ConvBlock5x5(\n",
      "    (conv1): Conv2d(1, 32, kernel_size=(5, 5), stride=(1, 1), padding=(2, 2), bias=False)\n",
      "    (bn1): BatchNorm2d(32, eps=1e-05, momentum=0.1, affine=True, track_running_stats=True)\n",
      "  )\n",
      "  (conv_list1): ModuleList(\n",
      "    (0): ConvBlock5x5(\n",
      "      (conv1): Conv2d(32, 64, kernel_size=(5, 5), stride=(1, 1), padding=(2, 2), bias=False)\n",
      "      (bn1): BatchNorm2d(64, eps=1e-05, momentum=0.1, affine=True, track_running_stats=True)\n",
      "    )\n",
      "    (1): ConvBlock5x5(\n",
      "      (conv1): Conv2d(64, 128, kernel_size=(5, 5), stride=(1, 1), padding=(2, 2), bias=False)\n",
      "      (bn1): BatchNorm2d(128, eps=1e-05, momentum=0.1, affine=True, track_running_stats=True)\n",
      "    )\n",
      "  )\n",
      "  (conv_block2): ConvBlock5x5(\n",
      "    (conv1): Conv2d(1, 32, kernel_size=(1, 5), stride=(1, 1), padding=(2, 2), bias=False)\n",
      "    (bn1): BatchNorm2d(32, eps=1e-05, momentum=0.1, affine=True, track_running_stats=True)\n",
      "  )\n",
      "  (conv_list2): ModuleList(\n",
      "    (0): ConvBlock5x5(\n",
      "      (conv1): Conv2d(32, 64, kernel_size=(1, 5), stride=(1, 1), padding=(2, 2), bias=False)\n",
      "      (bn1): BatchNorm2d(64, eps=1e-05, momentum=0.1, affine=True, track_running_stats=True)\n",
      "    )\n",
      "    (1): ConvBlock5x5(\n",
      "      (conv1): Conv2d(64, 128, kernel_size=(1, 5), stride=(1, 1), padding=(2, 2), bias=False)\n",
      "      (bn1): BatchNorm2d(128, eps=1e-05, momentum=0.1, affine=True, track_running_stats=True)\n",
      "    )\n",
      "    (2): ConvBlock5x5(\n",
      "      (conv1): Conv2d(128, 256, kernel_size=(1, 5), stride=(1, 1), padding=(2, 2), bias=False)\n",
      "      (bn1): BatchNorm2d(256, eps=1e-05, momentum=0.1, affine=True, track_running_stats=True)\n",
      "    )\n",
      "    (3): ConvBlock5x5(\n",
      "      (conv1): Conv2d(256, 256, kernel_size=(1, 5), stride=(1, 1), padding=(2, 2), bias=False)\n",
      "      (bn1): BatchNorm2d(256, eps=1e-05, momentum=0.1, affine=True, track_running_stats=True)\n",
      "    )\n",
      "  )\n",
      "  (fc1): Linear(in_features=384, out_features=256, bias=True)\n",
      "  (fc_medley): Linear(in_features=256, out_features=16, bias=True)\n",
      ")\n"
     ]
    }
   ],
   "source": [
    "sum(p.numel() for p in model.parameters())\n",
    "print(model)"
   ]
  },
  {
   "cell_type": "code",
   "execution_count": 6,
   "metadata": {
    "scrolled": true
   },
   "outputs": [
    {
     "name": "stdout",
     "output_type": "stream",
     "text": [
      "Macro F1 0.44316539049186.13503937537273525\n"
     ]
    },
    {
     "data": {
      "application/vnd.jupyter.widget-view+json": {
       "model_id": "12d1556db2a344e894cde31076e39628",
       "version_major": 2,
       "version_minor": 0
      },
      "text/plain": [
       "HBox(children=(FloatProgress(value=0.0, max=98.0), HTML(value='')))"
      ]
     },
     "metadata": {},
     "output_type": "display_data"
    },
    {
     "name": "stdout",
     "output_type": "stream",
     "text": [
      "\n",
      "Macro F1 0.4386576231303319617732268537923\n"
     ]
    },
    {
     "data": {
      "application/vnd.jupyter.widget-view+json": {
       "model_id": "7923b14884c34724911d0ab5a869fa2e",
       "version_major": 2,
       "version_minor": 0
      },
      "text/plain": [
       "HBox(children=(FloatProgress(value=0.0, max=98.0), HTML(value='')))"
      ]
     },
     "metadata": {},
     "output_type": "display_data"
    },
    {
     "name": "stdout",
     "output_type": "stream",
     "text": [
      "\n",
      "[0.9067357512953368, 0.9509803921568628, 0.74375, 0.7301587301587302, 0.43199999999999994, 0.7522935779816513, 0.16666666666666666, 0.48275862068965514, 0.2222222222222222, 0.30303030303030304, 0.0, 0.0, 0.42424242424242425, 0.0, 0.6341463414634146, 0.3]\n",
      "Macro F1 0.4405615643692042\n"
     ]
    }
   ],
   "source": [
    "losses_train = []\n",
    "losses_val = []\n",
    "f1_val = []\n",
    "epoch = 0\n",
    "threshold = 0.2\n",
    "best_f1 = 0\n",
    "directory_save = None\n",
    "\n",
    "early_stop = False\n",
    "plot = False\n",
    "dropout = True\n",
    "\n",
    "while not early_stop:\n",
    "    running_loss = 0.0\n",
    "    is_best = False\n",
    "    \n",
    "    # if epoch == 100:\n",
    "    #     plot = True\n",
    "    \n",
    "    for batch_data_dict in tqdm(train_loader):\n",
    "        if scatter_type == 'logmel':\n",
    "            batch_input = batch_data_dict['logmel'].cuda()\n",
    "            batch_target = batch_data_dict['target'].cuda()\n",
    "            batch_output_dict = model(batch_input)\n",
    "        else:\n",
    "            batch_input1 = batch_data_dict['order1'].cuda()\n",
    "            batch_input2 = batch_data_dict['order2'].cuda()\n",
    "            batch_target = batch_data_dict['target'].cuda()\n",
    "            batch_output_dict = model(batch_input1, batch_input2, plot, dropout)\n",
    "        \n",
    "        batch_target_dict = {'target': batch_target}\n",
    "        \n",
    "        loss = loss_func(batch_output_dict['clipwise_output'], batch_target_dict['target'])\n",
    "\n",
    "        # Backward\n",
    "        loss.backward()\n",
    "        running_loss += loss.item() * train_loader.batch_size\n",
    "        \n",
    "        optimizer.step()\n",
    "        optimizer.zero_grad()\n",
    "    \n",
    "    epoch_loss = running_loss / len(train_dataset)\n",
    "    losses_train.append(epoch_loss)\n",
    "    \n",
    "    plot = False\n",
    "\n",
    "    if epoch < 50:\n",
    "        display.clear_output(wait=True)\n",
    "        \n",
    "    print('Epoch', epoch, ',  Train loss:', epoch_loss, end='\\r')\n",
    "    model.eval()\n",
    "\n",
    "    val_loss = 0.0\n",
    "    batches_target = []\n",
    "    batches_pred = []\n",
    "    \n",
    "    for batch_data_dict in val_loader:\n",
    "        if scatter_type == 'logmel':\n",
    "            batch_input = batch_data_dict['logmel'].cuda()\n",
    "            batch_target = batch_data_dict['target'].cuda()\n",
    "            batch_output_dict = model(batch_input)\n",
    "        else:\n",
    "            batch_input1 = batch_data_dict['order1'].cuda()\n",
    "            batch_input2 = batch_data_dict['order2'].cuda()\n",
    "            batch_target = batch_data_dict['target'].cuda()\n",
    "            batch_output_dict = model(batch_input1, batch_input2)\n",
    "        \n",
    "        batch_target_dict = {'target': batch_target}\n",
    "\n",
    "        loss = loss_func(batch_output_dict['clipwise_output'], batch_target_dict['target'])\n",
    "\n",
    "        val_loss += loss.item() * val_loader.batch_size\n",
    "\n",
    "        batches_target.append(batch_target_dict['target'].detach().cpu().numpy()[0])\n",
    "        batches_pred.append((batch_output_dict['clipwise_output'].detach().cpu().numpy()[0]>threshold) * 1.0)\n",
    "\n",
    "    val_loss = val_loss / len(val_dataset)\n",
    "\n",
    "    losses_val.append(val_loss)\n",
    "\n",
    "    if epoch > 50 and losses_val[-1] > min(losses_val):\n",
    "        f1_instr = instrument_f1(batches_target, batches_pred)\n",
    "        print(f1_instr)\n",
    "        early_stop = True\n",
    "\n",
    "    f1_score = macro_f1(batches_target, batches_pred)\n",
    "    f1_val.append(f1_score)\n",
    "    \n",
    "    if losses_val[-1] == min(losses_val):\n",
    "        is_best = True\n",
    "        \n",
    "    save_checkpoint({\n",
    "        'epoch': epoch + 1,\n",
    "        'state_dict': model.state_dict(),\n",
    "        'f1_score': f1_score,\n",
    "        'optimizer' : optimizer.state_dict(),\n",
    "    }, is_best, directory_save)\n",
    "    \n",
    "    model.train()\n",
    "\n",
    "    # plt.plot(losses_train, label='Train loss')\n",
    "    # plt.plot(losses_val, label='Validation loss')\n",
    "    # display.clear_output(wait=True)\n",
    "    # display.display(pl.gcf())\n",
    "    # time.sleep(0.1)\n",
    "\n",
    "    epoch += 1"
   ]
  },
  {
   "cell_type": "code",
   "execution_count": 7,
   "metadata": {},
   "outputs": [
    {
     "data": {
      "text/html": [
       "<div>\n",
       "<style scoped>\n",
       "    .dataframe tbody tr th:only-of-type {\n",
       "        vertical-align: middle;\n",
       "    }\n",
       "\n",
       "    .dataframe tbody tr th {\n",
       "        vertical-align: top;\n",
       "    }\n",
       "\n",
       "    .dataframe thead th {\n",
       "        text-align: right;\n",
       "    }\n",
       "</style>\n",
       "<table border=\"1\" class=\"dataframe\">\n",
       "  <thead>\n",
       "    <tr style=\"text-align: right;\">\n",
       "      <th></th>\n",
       "      <th>f1 score</th>\n",
       "      <th># samples in val</th>\n",
       "      <th># samples in train</th>\n",
       "    </tr>\n",
       "  </thead>\n",
       "  <tbody>\n",
       "    <tr>\n",
       "      <th>drums</th>\n",
       "      <td>0.906736</td>\n",
       "      <td>191.0</td>\n",
       "      <td>1382.0</td>\n",
       "    </tr>\n",
       "    <tr>\n",
       "      <th>bass</th>\n",
       "      <td>0.950980</td>\n",
       "      <td>195.0</td>\n",
       "      <td>1901.0</td>\n",
       "    </tr>\n",
       "    <tr>\n",
       "      <th>guitar</th>\n",
       "      <td>0.743750</td>\n",
       "      <td>130.0</td>\n",
       "      <td>1562.0</td>\n",
       "    </tr>\n",
       "    <tr>\n",
       "      <th>voice</th>\n",
       "      <td>0.730159</td>\n",
       "      <td>104.0</td>\n",
       "      <td>1305.0</td>\n",
       "    </tr>\n",
       "    <tr>\n",
       "      <th>piano</th>\n",
       "      <td>0.432000</td>\n",
       "      <td>54.0</td>\n",
       "      <td>1200.0</td>\n",
       "    </tr>\n",
       "    <tr>\n",
       "      <th>synthesizer</th>\n",
       "      <td>0.752294</td>\n",
       "      <td>41.0</td>\n",
       "      <td>889.0</td>\n",
       "    </tr>\n",
       "    <tr>\n",
       "      <th>cello</th>\n",
       "      <td>0.166667</td>\n",
       "      <td>4.0</td>\n",
       "      <td>273.0</td>\n",
       "    </tr>\n",
       "    <tr>\n",
       "      <th>clarinet</th>\n",
       "      <td>0.482759</td>\n",
       "      <td>16.0</td>\n",
       "      <td>143.0</td>\n",
       "    </tr>\n",
       "    <tr>\n",
       "      <th>cymbals</th>\n",
       "      <td>0.222222</td>\n",
       "      <td>3.0</td>\n",
       "      <td>84.0</td>\n",
       "    </tr>\n",
       "    <tr>\n",
       "      <th>flute</th>\n",
       "      <td>0.303030</td>\n",
       "      <td>11.0</td>\n",
       "      <td>312.0</td>\n",
       "    </tr>\n",
       "    <tr>\n",
       "      <th>mallet_percussion</th>\n",
       "      <td>0.000000</td>\n",
       "      <td>0.0</td>\n",
       "      <td>161.0</td>\n",
       "    </tr>\n",
       "    <tr>\n",
       "      <th>mandolin</th>\n",
       "      <td>0.000000</td>\n",
       "      <td>0.0</td>\n",
       "      <td>465.0</td>\n",
       "    </tr>\n",
       "    <tr>\n",
       "      <th>saxophone</th>\n",
       "      <td>0.424242</td>\n",
       "      <td>24.0</td>\n",
       "      <td>54.0</td>\n",
       "    </tr>\n",
       "    <tr>\n",
       "      <th>trombone</th>\n",
       "      <td>0.000000</td>\n",
       "      <td>0.0</td>\n",
       "      <td>22.0</td>\n",
       "    </tr>\n",
       "    <tr>\n",
       "      <th>trumpet</th>\n",
       "      <td>0.634146</td>\n",
       "      <td>20.0</td>\n",
       "      <td>79.0</td>\n",
       "    </tr>\n",
       "    <tr>\n",
       "      <th>violin</th>\n",
       "      <td>0.300000</td>\n",
       "      <td>6.0</td>\n",
       "      <td>411.0</td>\n",
       "    </tr>\n",
       "  </tbody>\n",
       "</table>\n",
       "</div>"
      ],
      "text/plain": [
       "                   f1 score  # samples in val  # samples in train\n",
       "drums              0.906736             191.0              1382.0\n",
       "bass               0.950980             195.0              1901.0\n",
       "guitar             0.743750             130.0              1562.0\n",
       "voice              0.730159             104.0              1305.0\n",
       "piano              0.432000              54.0              1200.0\n",
       "synthesizer        0.752294              41.0               889.0\n",
       "cello              0.166667               4.0               273.0\n",
       "clarinet           0.482759              16.0               143.0\n",
       "cymbals            0.222222               3.0                84.0\n",
       "flute              0.303030              11.0               312.0\n",
       "mallet_percussion  0.000000               0.0               161.0\n",
       "mandolin           0.000000               0.0               465.0\n",
       "saxophone          0.424242              24.0                54.0\n",
       "trombone           0.000000               0.0                22.0\n",
       "trumpet            0.634146              20.0                79.0\n",
       "violin             0.300000               6.0               411.0"
      ]
     },
     "execution_count": 7,
     "metadata": {},
     "output_type": "execute_result"
    }
   ],
   "source": [
    "files_val = os.listdir('/home/laura/MedleyDB/processed/9_8_132300/val/input')\n",
    "labels_val_dir = '/home/laura/MedleyDB/processed/9_8_132300/val/labels'\n",
    "\n",
    "matrix_labels = []\n",
    "\n",
    "for file in files_val:\n",
    "\n",
    "    label = np.load(os.path.join(labels_val_dir, file), allow_pickle = True)\n",
    "    matrix_labels.append(label)\n",
    "\n",
    "num_instr = len(matrix_labels[0])\n",
    "count_val = np.zeros(num_instr)\n",
    "\n",
    "for label in matrix_labels:\n",
    "    idx = np.where(label==1)\n",
    "    for i in idx:\n",
    "        count_val[i] = count_val[i] + 1\n",
    "\n",
    "files_train = os.listdir('/home/laura/MedleyDB/processed/9_8_132300/train/input')\n",
    "labels_train_dir = '/home/laura/MedleyDB/processed/9_8_132300/train/labels'\n",
    "\n",
    "matrix_labels = []\n",
    "\n",
    "for file in files_train:\n",
    "\n",
    "    label = np.load(os.path.join(labels_train_dir, file), allow_pickle = True)\n",
    "    matrix_labels.append(label)\n",
    "\n",
    "num_instr = len(matrix_labels[0])\n",
    "count_train = np.zeros(num_instr)\n",
    "\n",
    "for label in matrix_labels:\n",
    "    idx = np.where(label==1)\n",
    "    for i in idx:\n",
    "        count_train[i] = count_train[i] + 1\n",
    "\n",
    "INDEX_TO_INSTRUMENT = {0: 'drums', 1: 'bass', 2: 'guitar', 3: 'voice', 4: 'piano', 5: 'synthesizer', 6: 'cello', 7: 'clarinet', 8: 'cymbals', 9: 'flute', 10: 'mallet_percussion', 11: 'mandolin', 12: 'saxophone', 13: 'trombone', 14: 'trumpet', 15: 'violin'}\n",
    "F1_INSTRUMENT = {}\n",
    "for i in range(len(f1_instr)):\n",
    "    F1_INSTRUMENT[INDEX_TO_INSTRUMENT[i]] = [f1_instr[i], count_val[i], count_train[i]]\n",
    "\n",
    "import pandas as pd\n",
    "\n",
    "pd.DataFrame.from_dict(F1_INSTRUMENT, orient='index', columns=['f1 score', '# samples in val', '# samples in train'])"
   ]
  },
  {
   "cell_type": "code",
   "execution_count": 8,
   "metadata": {},
   "outputs": [
    {
     "data": {
      "image/png": "[encoded data removed]",
      "text/plain": [
       "<Figure size 432x288 with 1 Axes>"
      ]
     },
     "metadata": {
      "needs_background": "light"
     },
     "output_type": "display_data"
    }
   ],
   "source": [
    "plt.plot(losses_train, label='Train loss')\n",
    "plt.plot(losses_val, label='Validation loss')\n",
    "plt.legend()\n",
    "plt.show()"
   ]
  },
  {
   "cell_type": "code",
   "execution_count": 9,
   "metadata": {},
   "outputs": [
    {
     "name": "stdout",
     "output_type": "stream",
     "text": [
      "0.1317732268537923\n",
      "0.21868565073786422\n",
      "0.46637826991064424\n"
     ]
    }
   ],
   "source": [
    "print(min(losses_train))\n",
    "print(min(losses_val))\n",
    "print(max(f1_val))"
   ]
  },
  {
   "cell_type": "code",
   "execution_count": 10,
   "metadata": {},
   "outputs": [
    {
     "data": {
      "text/plain": [
       "[<matplotlib.lines.Line2D at 0x7f63b1bc5810>]"
      ]
     },
     "execution_count": 10,
     "metadata": {},
     "output_type": "execute_result"
    },
    {
     "data": {
      "image/png": "[encoded data removed]",
      "text/plain": [
       "<Figure size 432x288 with 1 Axes>"
      ]
     },
     "metadata": {
      "needs_background": "light"
     },
     "output_type": "display_data"
    }
   ],
   "source": [
    "plt.plot(losses_val)"
   ]
  },
  {
   "cell_type": "code",
   "execution_count": 11,
   "metadata": {},
   "outputs": [
    {
     "data": {
      "text/plain": [
       "[<matplotlib.lines.Line2D at 0x7f63b1b2cbd0>]"
      ]
     },
     "execution_count": 11,
     "metadata": {},
     "output_type": "execute_result"
    },
    {
     "data": {
      "image/png": "[encoded data removed]",
      "text/plain": [
       "<Figure size 432x288 with 1 Axes>"
      ]
     },
     "metadata": {
      "needs_background": "light"
     },
     "output_type": "display_data"
    }
   ],
   "source": [
    "plt.plot(f1_val)"
   ]
  }
 ],
 "metadata": {
  "kernelspec": {
   "display_name": "Python 3",
   "language": "python",
   "name": "python3"
  },
  "language_info": {
   "codemirror_mode": {
    "name": "ipython",
    "version": 3
   },
   "file_extension": ".py",
   "mimetype": "text/x-python",
   "name": "python",
   "nbconvert_exporter": "python",
   "pygments_lexer": "ipython3",
   "version": "3.7.4"
  }
 },
 "nbformat": 4,
 "nbformat_minor": 2
}
