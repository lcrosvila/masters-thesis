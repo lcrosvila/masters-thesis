{
 "cells": [
  {
   "cell_type": "code",
   "execution_count": 1,
   "metadata": {},
   "outputs": [],
   "source": [
    "import os\n",
    "import sys\n",
    "\n",
    "import numpy as np\n",
    "import argparse\n",
    "import h5py\n",
    "import math\n",
    "import time\n",
    "import logging\n",
    "import matplotlib.pyplot as plt\n",
    "import torchvision\n",
    "from sklearn import metrics\n",
    "import _pickle as cPickle\n",
    "import shutil\n",
    "from tqdm.notebook import tqdm\n",
    "from IPython import display\n",
    "\n",
    "import torch\n",
    "\n",
    "import torch.nn as nn\n",
    "import torch.nn.functional as F\n",
    "import torch.optim as optim\n",
    "from torch.nn import Linear, NLLLoss, LogSoftmax, Sequential, BCELoss, Softmax, BatchNorm1d\n",
    "from torch.optim import Adam\n",
    "\n",
    "from models import Cnn14_scatter\n",
    "from data_generator import monoDataset\n",
    "\n",
    "from stft import Spectrogram, LogmelFilterBank\n",
    "from data_split import split_dataset\n",
    "\n",
    "import matplotlib.pyplot as plt\n",
    "from sklearn.metrics import f1_score, precision_score, recall_score"
   ]
  },
  {
   "cell_type": "code",
   "execution_count": 2,
   "metadata": {},
   "outputs": [],
   "source": [
    "def save_checkpoint(state, is_best, directory, filename='checkpoint.pth.tar'):\n",
    "    if not directory == None:\n",
    "        if not os.path.exists(directory):\n",
    "            os.makedirs(directory)\n",
    "\n",
    "        filename = os.path.join(directory, filename)\n",
    "        torch.save(state, filename)\n",
    "        if is_best:\n",
    "            shutil.copyfile(filename, os.path.join(directory,'model_best.pth.tar'))"
   ]
  },
  {
   "cell_type": "code",
   "execution_count": 3,
   "metadata": {},
   "outputs": [],
   "source": [
    "DATA_ROOT = '/home/laura/thesis/data'\n",
    "\n",
    "train_npz_path=DATA_ROOT+'/train.npz'\n",
    "val_npz_path=DATA_ROOT+'/val.npz'\n",
    "test_npz_path=DATA_ROOT+'/test.npz'\n",
    "\n",
    "train_dataset = monoDataset(npz_path=train_npz_path, audio_length=110250, classes_num=7)\n",
    "train_loader = torch.utils.data.DataLoader(\n",
    "    train_dataset,\n",
    "    batch_size=32,\n",
    "    num_workers=os.cpu_count(),\n",
    "    shuffle=True\n",
    ")\n",
    "\n",
    "val_dataset = monoDataset(npz_path=val_npz_path, audio_length=110250, classes_num=7)\n",
    "val_loader = torch.utils.data.DataLoader(\n",
    "    val_dataset,\n",
    "    batch_size=1,\n",
    "    num_workers=os.cpu_count(),\n",
    "    shuffle=True\n",
    ")\n",
    "\n",
    "test_dataset = monoDataset(npz_path=test_npz_path, audio_length=110250, classes_num=7)\n",
    "test_loader = torch.utils.data.DataLoader(\n",
    "    test_dataset,\n",
    "    batch_size=1,\n",
    "    num_workers=os.cpu_count(),\n",
    "    shuffle=True\n",
    ")"
   ]
  },
  {
   "cell_type": "code",
   "execution_count": 4,
   "metadata": {},
   "outputs": [],
   "source": [
    "def evaluate(model, spectrogram_extractor, logmel_extractor, loader, loss_func, threshold):\n",
    "    total_loss = 0.0\n",
    "    batches_target = []\n",
    "    batches_pred = []\n",
    "    \n",
    "    for batch_data_dict in loader:\n",
    "        batch_input = batch_data_dict['waveform'].cuda()\n",
    "        batch_target = batch_data_dict['target'].cuda()\n",
    "\n",
    "        Sx_ts = spectrogram_extractor(batch_input)\n",
    "        Sx_ts = logmel_extractor(Sx_ts)\n",
    "        Sx_ts = torch.reshape(Sx_ts, (Sx_ts.shape[0], Sx_ts.shape[2], Sx_ts.shape[3]))\n",
    "        \n",
    "        Sx_ts = torch.mean(Sx_ts, dim=1)\n",
    "\n",
    "        resp = model.forward(Sx_ts)\n",
    "        loss = criterion(resp, batch_target)\n",
    "\n",
    "        guess = (resp.detach().cpu().numpy()[0] > threshold) * 1.0\n",
    "        true_labels = batch_target.detach().cpu().numpy()[0]\n",
    "        \n",
    "        total_loss += loss.item() * loader.batch_size\n",
    "        batches_target.append(true_labels)\n",
    "        batches_pred.append(guess)        \n",
    "\n",
    "    total_loss = total_loss / len(loader.dataset)\n",
    "\n",
    "    return total_loss, batches_target, batches_pred"
   ]
  },
  {
   "cell_type": "code",
   "execution_count": 5,
   "metadata": {},
   "outputs": [
    {
     "name": "stderr",
     "output_type": "stream",
     "text": [
      "/home/laura/.local/lib/python3.7/site-packages/librosa/filters.py:235: UserWarning: Empty filters detected in mel frequency basis. Some channels will produce empty responses. Try increasing your sampling rate (and fmax) or reducing n_mels.\n",
      "  warnings.warn('Empty filters detected in mel frequency basis. '\n"
     ]
    },
    {
     "data": {
      "text/plain": [
       "LogmelFilterBank()"
      ]
     },
     "execution_count": 5,
     "metadata": {},
     "output_type": "execute_result"
    }
   ],
   "source": [
    "sample_rate=22050\n",
    "window_size=400\n",
    "hop_size=160\n",
    "mel_bins=64\n",
    "fmin=50\n",
    "fmax=14000\n",
    "window = 'hann'\n",
    "center = True\n",
    "pad_mode = 'reflect'\n",
    "ref = 1.0\n",
    "amin = 1e-10\n",
    "top_db = None\n",
    "\n",
    "spectrogram_extractor = Spectrogram(n_fft=window_size, hop_length=hop_size, \n",
    "    win_length=window_size, window=window, center=center, pad_mode=pad_mode, \n",
    "    freeze_parameters=True)\n",
    "\n",
    "logmel_extractor = LogmelFilterBank(sr=sample_rate, n_fft=window_size, \n",
    "    n_mels=mel_bins, fmin=fmin, fmax=fmax, ref=ref, amin=amin, top_db=top_db, \n",
    "    freeze_parameters=True)\n",
    "\n",
    "spectrogram_extractor.cuda()\n",
    "logmel_extractor.cuda()"
   ]
  },
  {
   "cell_type": "code",
   "execution_count": 6,
   "metadata": {},
   "outputs": [],
   "source": [
    "T = 110250\n",
    "J = 6\n",
    "Q = 8\n",
    "num_classes=7\n",
    "log_eps = 1e-6"
   ]
  },
  {
   "cell_type": "code",
   "execution_count": 7,
   "metadata": {},
   "outputs": [],
   "source": [
    "# Number of epochs.\n",
    "num_epochs = 200\n",
    "\n",
    "directory_save = '/home/laura/thesis/models/logmel/1'"
   ]
  },
  {
   "cell_type": "code",
   "execution_count": 8,
   "metadata": {},
   "outputs": [],
   "source": [
    "#checkpoint = None\n",
    "checkpoint = torch.load(os.path.join(directory_save, 'checkpoint.pth.tar'))"
   ]
  },
  {
   "cell_type": "code",
   "execution_count": 9,
   "metadata": {},
   "outputs": [
    {
     "name": "stdout",
     "output_type": "stream",
     "text": [
      "Epoch 145, val loss = 0.065, F1: 0.920, Precision: 0.909, Recall: 0.936\n",
      "Epoch 146, val loss = 0.064, F1: 0.917, Precision: 0.903, Recall: 0.935\n",
      "Epoch 147, val loss = 0.065, F1: 0.921, Precision: 0.911, Recall: 0.936\n",
      "Epoch 148, val loss = 0.065, F1: 0.921, Precision: 0.911, Recall: 0.936\n",
      "Epoch 149, val loss = 0.062, F1: 0.924, Precision: 0.913, Recall: 0.939\n",
      "TEST epoch best 149, loss = 0.049, F1: 0.946, Precision: 0.944, Recall: 0.952\n",
      "Epoch 150, val loss = 0.065, F1: 0.914, Precision: 0.912, Recall: 0.922\n",
      "Epoch 151, val loss = 0.064, F1: 0.913, Precision: 0.902, Recall: 0.928\n",
      "Epoch 152, val loss = 0.064, F1: 0.918, Precision: 0.905, Recall: 0.935\n",
      "Epoch 153, val loss = 0.063, F1: 0.918, Precision: 0.908, Recall: 0.932\n",
      "Epoch 154, val loss = 0.063, F1: 0.917, Precision: 0.909, Recall: 0.929\n",
      "Epoch 155, val loss = 0.066, F1: 0.921, Precision: 0.902, Recall: 0.946\n",
      "Epoch 156, val loss = 0.064, F1: 0.924, Precision: 0.908, Recall: 0.943\n",
      "Epoch 157, val loss = 0.064, F1: 0.921, Precision: 0.911, Recall: 0.936\n",
      "Epoch 158, val loss = 0.066, F1: 0.911, Precision: 0.900, Recall: 0.925\n",
      "Epoch 159, val loss = 0.063, F1: 0.920, Precision: 0.904, Recall: 0.939\n",
      "Epoch 160, val loss = 0.064, F1: 0.927, Precision: 0.908, Recall: 0.950\n",
      "Epoch 161, val loss = 0.063, F1: 0.924, Precision: 0.908, Recall: 0.943\n",
      "Epoch 162, val loss = 0.064, F1: 0.914, Precision: 0.899, Recall: 0.932\n",
      "Epoch 163, val loss = 0.064, F1: 0.921, Precision: 0.907, Recall: 0.939\n",
      "Epoch 164, val loss = 0.064, F1: 0.922, Precision: 0.905, Recall: 0.943\n",
      "Epoch 165, val loss = 0.063, F1: 0.920, Precision: 0.909, Recall: 0.936\n",
      "Epoch 166, val loss = 0.062, F1: 0.918, Precision: 0.908, Recall: 0.932\n",
      "TEST epoch best 166, loss = 0.048, F1: 0.948, Precision: 0.945, Recall: 0.953\n",
      "Epoch 167, val loss = 0.061, F1: 0.923, Precision: 0.904, Recall: 0.946\n",
      "TEST epoch best 167, loss = 0.049, F1: 0.948, Precision: 0.946, Recall: 0.953\n",
      "Epoch 168, val loss = 0.064, F1: 0.922, Precision: 0.906, Recall: 0.943\n",
      "Epoch 169, val loss = 0.063, F1: 0.924, Precision: 0.909, Recall: 0.943\n",
      "Epoch 170, val loss = 0.063, F1: 0.916, Precision: 0.906, Recall: 0.929\n",
      "Epoch 171, val loss = 0.064, F1: 0.922, Precision: 0.911, Recall: 0.939\n",
      "Epoch 172, val loss = 0.063, F1: 0.920, Precision: 0.907, Recall: 0.939\n",
      "Epoch 173, val loss = 0.063, F1: 0.923, Precision: 0.908, Recall: 0.943\n",
      "Epoch 174, val loss = 0.061, F1: 0.924, Precision: 0.911, Recall: 0.943\n",
      "TEST epoch best 174, loss = 0.048, F1: 0.953, Precision: 0.949, Recall: 0.960\n",
      "Epoch 175, val loss = 0.062, F1: 0.924, Precision: 0.912, Recall: 0.939\n",
      "Epoch 176, val loss = 0.066, F1: 0.915, Precision: 0.907, Recall: 0.928\n",
      "Epoch 177, val loss = 0.062, F1: 0.923, Precision: 0.907, Recall: 0.943\n",
      "Epoch 178, val loss = 0.063, F1: 0.922, Precision: 0.912, Recall: 0.936\n",
      "Epoch 179, val loss = 0.064, F1: 0.916, Precision: 0.903, Recall: 0.935\n",
      "Epoch 180, val loss = 0.062, F1: 0.925, Precision: 0.906, Recall: 0.946\n",
      "Epoch 181, val loss = 0.063, F1: 0.916, Precision: 0.905, Recall: 0.932\n",
      "Epoch 182, val loss = 0.065, F1: 0.919, Precision: 0.917, Recall: 0.926\n",
      "Epoch 183, val loss = 0.062, F1: 0.924, Precision: 0.912, Recall: 0.939\n",
      "Epoch 184, val loss = 0.063, F1: 0.916, Precision: 0.903, Recall: 0.932\n",
      "Epoch 185, val loss = 0.062, F1: 0.918, Precision: 0.909, Recall: 0.932\n",
      "Epoch 186, val loss = 0.063, F1: 0.915, Precision: 0.901, Recall: 0.935\n",
      "Epoch 187, val loss = 0.062, F1: 0.920, Precision: 0.908, Recall: 0.936\n",
      "Epoch 188, val loss = 0.063, F1: 0.922, Precision: 0.908, Recall: 0.939\n",
      "Epoch 189, val loss = 0.062, F1: 0.922, Precision: 0.908, Recall: 0.939\n",
      "Epoch 190, val loss = 0.062, F1: 0.921, Precision: 0.904, Recall: 0.943\n",
      "Epoch 191, val loss = 0.062, F1: 0.920, Precision: 0.912, Recall: 0.932\n",
      "Epoch 192, val loss = 0.064, F1: 0.920, Precision: 0.908, Recall: 0.936\n",
      "Epoch 193, val loss = 0.065, F1: 0.918, Precision: 0.905, Recall: 0.935\n",
      "Epoch 194, val loss = 0.062, F1: 0.923, Precision: 0.906, Recall: 0.943\n",
      "Epoch 195, val loss = 0.062, F1: 0.925, Precision: 0.908, Recall: 0.946\n",
      "Epoch 196, val loss = 0.065, F1: 0.920, Precision: 0.907, Recall: 0.939\n",
      "Epoch 197, val loss = 0.062, F1: 0.915, Precision: 0.907, Recall: 0.928\n",
      "Epoch 198, val loss = 0.063, F1: 0.929, Precision: 0.912, Recall: 0.950\n",
      "Epoch 199, val loss = 0.062, F1: 0.922, Precision: 0.908, Recall: 0.939\n"
     ]
    }
   ],
   "source": [
    "first = True\n",
    "weight_updates = 0\n",
    "threshold = 0.5\n",
    "min_loss_val = 10000\n",
    "losses_train = []\n",
    "losses_val = []\n",
    "\n",
    "e = 0\n",
    "\n",
    "while e < num_epochs:\n",
    "    running_loss = 0.0\n",
    "    \n",
    "    for batch_data_dict in train_loader:\n",
    "\n",
    "        batch_input = batch_data_dict['waveform'].cuda()\n",
    "        batch_target = batch_data_dict['target'].cuda()\n",
    "        \n",
    "        # y_tr = torch.argmax(batch_target,axis=1)\n",
    "        # y_tr = y_tr.long()\n",
    "\n",
    "        Sx_tr = spectrogram_extractor(batch_input)\n",
    "        Sx_tr = logmel_extractor(Sx_tr)\n",
    "        Sx_tr_plot = torch.reshape(Sx_tr, (Sx_tr.shape[0], Sx_tr.shape[2], Sx_tr.shape[3]))\n",
    "        \n",
    "        Sx_tr = torch.mean(Sx_tr_plot, dim=1)\n",
    "\n",
    "        if (first):            \n",
    "            num_input = Sx_tr.shape[-1]\n",
    "            model = Sequential(nn.BatchNorm1d(num_input), Linear(num_input, num_classes), Softmax(dim=1))\n",
    "            optimizer = Adam(model.parameters())\n",
    "            criterion = BCELoss()\n",
    "            model.cuda()\n",
    "            criterion.cuda()\n",
    "            \n",
    "            if checkpoint != None:\n",
    "                model.load_state_dict(checkpoint['state_dict'])\n",
    "                optimizer.load_state_dict(checkpoint['optimizer'])\n",
    "                e = checkpoint['epoch'] - 1\n",
    "                weight_updates = checkpoint['weight_updates']\n",
    "                losses_train = checkpoint['train_losses']\n",
    "                losses_val = checkpoint['val_losses']\n",
    "                test_loss = checkpoint['test_loss']\n",
    "                test_f1 = checkpoint['test_f1']\n",
    "                test_precision = checkpoint['test_precision']\n",
    "                test_recall = checkpoint['test_recall']\n",
    "                min_loss_val = min(losses_val)\n",
    "                \n",
    "            first = False\n",
    "            \n",
    "        resp = model.forward(Sx_tr)\n",
    "        loss = criterion(resp, batch_target)\n",
    "\n",
    "        # Backward\n",
    "        loss.backward()\n",
    "        running_loss += loss.item() * train_loader.batch_size\n",
    "        \n",
    "        optimizer.step()\n",
    "        optimizer.zero_grad()\n",
    "        weight_updates += 1\n",
    "        \n",
    "    epoch_loss = running_loss / len(train_dataset)\n",
    "    losses_train.append(epoch_loss)\n",
    "    \n",
    "    print('Epoch', e, ',  Train loss:', epoch_loss, end='\\r')\n",
    "    model.eval()\n",
    "    \n",
    "    val_loss, batches_target, batches_pred = evaluate(model, spectrogram_extractor, \n",
    "                                                      logmel_extractor, val_loader, criterion, threshold)\n",
    "\n",
    "    losses_val.append(val_loss)\n",
    "    val_f1 = f1_score(batches_pred, batches_target, average='weighted')\n",
    "    val_precision = precision_score(batches_pred, batches_target, average='weighted')\n",
    "    val_recall = recall_score(batches_pred, batches_target, average='weighted')\n",
    "    \n",
    "    print('Epoch {}, val loss = {:1.3f}, F1: {:1.3f}, Precision: {:1.3f}, Recall: {:1.3f}'.format(\n",
    "        e, val_loss, val_f1, val_precision, val_recall))\n",
    "          \n",
    "    is_best = False\n",
    "    \n",
    "    if min_loss_val > val_loss:\n",
    "        min_loss_val = val_loss\n",
    "        test_loss, batches_target, batches_pred = evaluate(model, spectrogram_extractor, \n",
    "                                                      logmel_extractor, test_loader, criterion, threshold)\n",
    "        test_f1 = f1_score(batches_pred, batches_target, average='weighted')\n",
    "        test_precision = precision_score(batches_pred, batches_target, average='weighted')\n",
    "        test_recall = recall_score(batches_pred, batches_target, average='weighted')\n",
    "        is_best = True\n",
    "        print('TEST epoch best {}, loss = {:1.3f}, F1: {:1.3f}, Precision: {:1.3f}, Recall: {:1.3f}'.format(\n",
    "            e, test_loss, test_f1, test_precision, test_recall))\n",
    "    \n",
    "    save_checkpoint(\n",
    "        {\n",
    "            \"epoch\": e + 1,\n",
    "            \"weight_updates\": weight_updates,\n",
    "            \"state_dict\": model.state_dict(),\n",
    "            \"train_losses\": losses_train,\n",
    "            \"val_losses\": losses_val,\n",
    "            \"test_loss\": test_loss,\n",
    "            \"val_f1\": val_f1,\n",
    "            \"test_f1\": test_f1,\n",
    "            \"val_precision\": val_precision,\n",
    "            \"test_precision\": test_precision,\n",
    "            \"val_recall\": val_recall,\n",
    "            \"test_recall\": test_recall,\n",
    "            \"optimizer\": optimizer.state_dict(),\n",
    "        },\n",
    "        is_best,\n",
    "        directory_save,\n",
    "    )\n",
    "    \n",
    "    e += 1\n",
    "    \n",
    "    model.train()"
   ]
  },
  {
   "cell_type": "code",
   "execution_count": 10,
   "metadata": {},
   "outputs": [
    {
     "name": "stdout",
     "output_type": "stream",
     "text": [
      "TEST epoch best 200, loss = 0.048, F1: 0.953, Precision: 0.949, Recall: 0.960\n"
     ]
    }
   ],
   "source": [
    "print('TEST epoch best {}, loss = {:1.3f}, F1: {:1.3f}, Precision: {:1.3f}, Recall: {:1.3f}'.format(\n",
    "            e, test_loss, test_f1, test_precision, test_recall))"
   ]
  },
  {
   "cell_type": "code",
   "execution_count": 11,
   "metadata": {},
   "outputs": [
    {
     "data": {
      "text/plain": [
       "[<matplotlib.lines.Line2D at 0x7f3c36b32550>]"
      ]
     },
     "execution_count": 11,
     "metadata": {},
     "output_type": "execute_result"
    },
    {
     "data": {
      "image/png": "[encoded data removed]",
      "text/plain": [
       "<Figure size 432x288 with 1 Axes>"
      ]
     },
     "metadata": {
      "needs_background": "light"
     },
     "output_type": "display_data"
    }
   ],
   "source": [
    "plt.plot(losses_train)\n",
    "plt.plot(losses_val)"
   ]
  },
  {
   "cell_type": "code",
   "execution_count": 12,
   "metadata": {},
   "outputs": [
    {
     "name": "stdout",
     "output_type": "stream",
     "text": [
      "Sequential(\n",
      "  (0): BatchNorm1d(64, eps=1e-05, momentum=0.1, affine=True, track_running_stats=True)\n",
      "  (1): Linear(in_features=64, out_features=7, bias=True)\n",
      "  (2): Softmax(dim=1)\n",
      ")\n"
     ]
    }
   ],
   "source": [
    "print(model)"
   ]
  },
  {
   "cell_type": "code",
   "execution_count": 13,
   "metadata": {},
   "outputs": [],
   "source": [
    "def plot_weight(tensor):\n",
    "    fig, ax = plt.subplots()\n",
    "    im = ax.imshow(tensor.cpu())\n",
    "\n",
    "    ax.set_ylim([-0.5,6.5])\n",
    "    ax.set_yticks(np.arange(7))\n",
    "    ax.set_yticklabels(['Gt', 'Pn', 'Co', 'Cl', 'Ob', 'Tr', 'Vl'])\n",
    "    ax.set_ylabel('Instrument')\n",
    "    ax.set_xlabel('Mel-spec coefficients')\n",
    "    ax.set_title('Trained weights for the different mel-spec coefficients')\n",
    "    plt.show()"
   ]
  },
  {
   "cell_type": "code",
   "execution_count": 14,
   "metadata": {},
   "outputs": [
    {
     "data": {
      "image/png": "[encoded data removed]",
      "text/plain": [
       "<Figure size 432x288 with 1 Axes>"
      ]
     },
     "metadata": {
      "needs_background": "light"
     },
     "output_type": "display_data"
    }
   ],
   "source": [
    "for param in model.parameters():\n",
    "    if len(param.data.shape)==2:\n",
    "        plot_weight(param.data)"
   ]
  },
  {
   "cell_type": "code",
   "execution_count": 15,
   "metadata": {},
   "outputs": [
    {
     "name": "stderr",
     "output_type": "stream",
     "text": [
      "/opt/anaconda3/lib/python3.7/site-packages/torch/nn/modules/loss.py:498: UserWarning: Using a target size (torch.Size([1])) that is different to the input size (torch.Size([1, 7])) is deprecated. Please ensure they have the same size.\n",
      "  return F.binary_cross_entropy(input, target, weight=self.weight, reduction=self.reduction)\n"
     ]
    },
    {
     "ename": "ValueError",
     "evalue": "Target and input must have the same number of elements. target nelement (1) != input nelement (7)",
     "output_type": "error",
     "traceback": [
      "\u001b[0;31m---------------------------------------------------------------------------\u001b[0m",
      "\u001b[0;31mValueError\u001b[0m                                Traceback (most recent call last)",
      "\u001b[0;32m<ipython-input-15-9f48a354d867>\u001b[0m in \u001b[0;36m<module>\u001b[0;34m\u001b[0m\n\u001b[1;32m     23\u001b[0m \u001b[0;34m\u001b[0m\u001b[0m\n\u001b[1;32m     24\u001b[0m         \u001b[0mresp\u001b[0m \u001b[0;34m=\u001b[0m \u001b[0mmodel\u001b[0m\u001b[0;34m.\u001b[0m\u001b[0mforward\u001b[0m\u001b[0;34m(\u001b[0m\u001b[0mSx_ts\u001b[0m\u001b[0;34m)\u001b[0m\u001b[0;34m\u001b[0m\u001b[0;34m\u001b[0m\u001b[0m\n\u001b[0;32m---> 25\u001b[0;31m         \u001b[0mavg_loss\u001b[0m \u001b[0;34m=\u001b[0m \u001b[0mcriterion\u001b[0m\u001b[0;34m(\u001b[0m\u001b[0mresp\u001b[0m\u001b[0;34m,\u001b[0m \u001b[0my_ts\u001b[0m\u001b[0;34m)\u001b[0m\u001b[0;34m\u001b[0m\u001b[0;34m\u001b[0m\u001b[0m\n\u001b[0m\u001b[1;32m     26\u001b[0m \u001b[0;34m\u001b[0m\u001b[0m\n\u001b[1;32m     27\u001b[0m         \u001b[0;31m# Try predicting the labels of the signals in the test data and compute the\u001b[0m\u001b[0;34m\u001b[0m\u001b[0;34m\u001b[0m\u001b[0;34m\u001b[0m\u001b[0m\n",
      "\u001b[0;32m/opt/anaconda3/lib/python3.7/site-packages/torch/nn/modules/module.py\u001b[0m in \u001b[0;36m__call__\u001b[0;34m(self, *input, **kwargs)\u001b[0m\n\u001b[1;32m    530\u001b[0m             \u001b[0mresult\u001b[0m \u001b[0;34m=\u001b[0m \u001b[0mself\u001b[0m\u001b[0;34m.\u001b[0m\u001b[0m_slow_forward\u001b[0m\u001b[0;34m(\u001b[0m\u001b[0;34m*\u001b[0m\u001b[0minput\u001b[0m\u001b[0;34m,\u001b[0m \u001b[0;34m**\u001b[0m\u001b[0mkwargs\u001b[0m\u001b[0;34m)\u001b[0m\u001b[0;34m\u001b[0m\u001b[0;34m\u001b[0m\u001b[0m\n\u001b[1;32m    531\u001b[0m         \u001b[0;32melse\u001b[0m\u001b[0;34m:\u001b[0m\u001b[0;34m\u001b[0m\u001b[0;34m\u001b[0m\u001b[0m\n\u001b[0;32m--> 532\u001b[0;31m             \u001b[0mresult\u001b[0m \u001b[0;34m=\u001b[0m \u001b[0mself\u001b[0m\u001b[0;34m.\u001b[0m\u001b[0mforward\u001b[0m\u001b[0;34m(\u001b[0m\u001b[0;34m*\u001b[0m\u001b[0minput\u001b[0m\u001b[0;34m,\u001b[0m \u001b[0;34m**\u001b[0m\u001b[0mkwargs\u001b[0m\u001b[0;34m)\u001b[0m\u001b[0;34m\u001b[0m\u001b[0;34m\u001b[0m\u001b[0m\n\u001b[0m\u001b[1;32m    533\u001b[0m         \u001b[0;32mfor\u001b[0m \u001b[0mhook\u001b[0m \u001b[0;32min\u001b[0m \u001b[0mself\u001b[0m\u001b[0;34m.\u001b[0m\u001b[0m_forward_hooks\u001b[0m\u001b[0;34m.\u001b[0m\u001b[0mvalues\u001b[0m\u001b[0;34m(\u001b[0m\u001b[0;34m)\u001b[0m\u001b[0;34m:\u001b[0m\u001b[0;34m\u001b[0m\u001b[0;34m\u001b[0m\u001b[0m\n\u001b[1;32m    534\u001b[0m             \u001b[0mhook_result\u001b[0m \u001b[0;34m=\u001b[0m \u001b[0mhook\u001b[0m\u001b[0;34m(\u001b[0m\u001b[0mself\u001b[0m\u001b[0;34m,\u001b[0m \u001b[0minput\u001b[0m\u001b[0;34m,\u001b[0m \u001b[0mresult\u001b[0m\u001b[0;34m)\u001b[0m\u001b[0;34m\u001b[0m\u001b[0;34m\u001b[0m\u001b[0m\n",
      "\u001b[0;32m/opt/anaconda3/lib/python3.7/site-packages/torch/nn/modules/loss.py\u001b[0m in \u001b[0;36mforward\u001b[0;34m(self, input, target)\u001b[0m\n\u001b[1;32m    496\u001b[0m \u001b[0;34m\u001b[0m\u001b[0m\n\u001b[1;32m    497\u001b[0m     \u001b[0;32mdef\u001b[0m \u001b[0mforward\u001b[0m\u001b[0;34m(\u001b[0m\u001b[0mself\u001b[0m\u001b[0;34m,\u001b[0m \u001b[0minput\u001b[0m\u001b[0;34m,\u001b[0m \u001b[0mtarget\u001b[0m\u001b[0;34m)\u001b[0m\u001b[0;34m:\u001b[0m\u001b[0;34m\u001b[0m\u001b[0;34m\u001b[0m\u001b[0m\n\u001b[0;32m--> 498\u001b[0;31m         \u001b[0;32mreturn\u001b[0m \u001b[0mF\u001b[0m\u001b[0;34m.\u001b[0m\u001b[0mbinary_cross_entropy\u001b[0m\u001b[0;34m(\u001b[0m\u001b[0minput\u001b[0m\u001b[0;34m,\u001b[0m \u001b[0mtarget\u001b[0m\u001b[0;34m,\u001b[0m \u001b[0mweight\u001b[0m\u001b[0;34m=\u001b[0m\u001b[0mself\u001b[0m\u001b[0;34m.\u001b[0m\u001b[0mweight\u001b[0m\u001b[0;34m,\u001b[0m \u001b[0mreduction\u001b[0m\u001b[0;34m=\u001b[0m\u001b[0mself\u001b[0m\u001b[0;34m.\u001b[0m\u001b[0mreduction\u001b[0m\u001b[0;34m)\u001b[0m\u001b[0;34m\u001b[0m\u001b[0;34m\u001b[0m\u001b[0m\n\u001b[0m\u001b[1;32m    499\u001b[0m \u001b[0;34m\u001b[0m\u001b[0m\n\u001b[1;32m    500\u001b[0m \u001b[0;34m\u001b[0m\u001b[0m\n",
      "\u001b[0;32m/opt/anaconda3/lib/python3.7/site-packages/torch/nn/functional.py\u001b[0m in \u001b[0;36mbinary_cross_entropy\u001b[0;34m(input, target, weight, size_average, reduce, reduction)\u001b[0m\n\u001b[1;32m   2068\u001b[0m     \u001b[0;32mif\u001b[0m \u001b[0minput\u001b[0m\u001b[0;34m.\u001b[0m\u001b[0mnumel\u001b[0m\u001b[0;34m(\u001b[0m\u001b[0;34m)\u001b[0m \u001b[0;34m!=\u001b[0m \u001b[0mtarget\u001b[0m\u001b[0;34m.\u001b[0m\u001b[0mnumel\u001b[0m\u001b[0;34m(\u001b[0m\u001b[0;34m)\u001b[0m\u001b[0;34m:\u001b[0m\u001b[0;34m\u001b[0m\u001b[0;34m\u001b[0m\u001b[0m\n\u001b[1;32m   2069\u001b[0m         raise ValueError(\"Target and input must have the same number of elements. target nelement ({}) \"\n\u001b[0;32m-> 2070\u001b[0;31m                          \"!= input nelement ({})\".format(target.numel(), input.numel()))\n\u001b[0m\u001b[1;32m   2071\u001b[0m \u001b[0;34m\u001b[0m\u001b[0m\n\u001b[1;32m   2072\u001b[0m     \u001b[0;32mif\u001b[0m \u001b[0mweight\u001b[0m \u001b[0;32mis\u001b[0m \u001b[0;32mnot\u001b[0m \u001b[0;32mNone\u001b[0m\u001b[0;34m:\u001b[0m\u001b[0;34m\u001b[0m\u001b[0;34m\u001b[0m\u001b[0m\n",
      "\u001b[0;31mValueError\u001b[0m: Target and input must have the same number of elements. target nelement (1) != input nelement (7)"
     ]
    }
   ],
   "source": [
    "avg_acc = 0\n",
    "avg_loss_total = 0\n",
    "iteration = 0\n",
    "\n",
    "guesses = []\n",
    "true_labels = []\n",
    "\n",
    "model.eval()\n",
    "\n",
    "for batch_data_dict in test_loader:\n",
    "\n",
    "        batch_input = batch_data_dict['waveform'].cuda()\n",
    "        batch_target = batch_data_dict['target'].cuda()\n",
    "        \n",
    "        y_ts = torch.argmax(batch_target,axis=1)\n",
    "        y_ts = y_ts.long()\n",
    "\n",
    "        Sx_ts = spectrogram_extractor(batch_input)\n",
    "        Sx_ts = logmel_extractor(Sx_ts)\n",
    "        Sx_ts = torch.reshape(Sx_ts, (Sx_ts.shape[0], Sx_ts.shape[2], Sx_ts.shape[3]))\n",
    "        \n",
    "        Sx_ts = torch.mean(Sx_ts, dim=1)\n",
    "\n",
    "        resp = model.forward(Sx_ts)\n",
    "        avg_loss = criterion(resp, y_ts)\n",
    "\n",
    "        # Try predicting the labels of the signals in the test data and compute the\n",
    "        # accuracy.\n",
    "        y_hat = resp.argmax(dim=1)\n",
    "        accu = (y_ts == y_hat).float().mean()\n",
    "        \n",
    "        guesses.append((resp>-0.6).cpu().numpy()[0]*1.0)\n",
    "        true_labels.append(batch_target.cpu().numpy()[0])\n",
    "        \n",
    "        avg_loss_total += avg_loss\n",
    "        avg_acc += accu\n",
    "        \n",
    "        iteration +=1\n",
    "\n",
    "print('TEST, average loss = {:1.3f}, accuracy = {:1.3f}, F1: {:1.3f}, Precision: {:1.3f}, Recall: {:1.3f}'.format(\n",
    "        avg_loss_total/iteration, avg_acc/iteration, f1_score(guesses, true_labels, average=\"weighted\"), \n",
    "        precision_score(guesses, true_labels, average=\"weighted\"), recall_score(guesses, true_labels, average=\"weighted\")))"
   ]
  }
 ],
 "metadata": {
  "kernelspec": {
   "display_name": "Python 3",
   "language": "python",
   "name": "python3"
  },
  "language_info": {
   "codemirror_mode": {
    "name": "ipython",
    "version": 3
   },
   "file_extension": ".py",
   "mimetype": "text/x-python",
   "name": "python",
   "nbconvert_exporter": "python",
   "pygments_lexer": "ipython3",
   "version": "3.7.4"
  }
 },
 "nbformat": 4,
 "nbformat_minor": 2
}
