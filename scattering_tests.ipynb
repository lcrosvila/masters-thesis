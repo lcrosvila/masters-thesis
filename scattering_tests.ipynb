{
 "cells": [
  {
   "cell_type": "code",
   "execution_count": 1,
   "metadata": {},
   "outputs": [],
   "source": [
    "import os\n",
    "import sys\n",
    "import numpy as np\n",
    "import argparse\n",
    "import h5py\n",
    "import math\n",
    "import time\n",
    "import logging\n",
    "import matplotlib.pyplot as plt\n",
    "import torchvision\n",
    "from sklearn import metrics\n",
    "import _pickle as cPickle\n",
    "import shutil\n",
    "\n",
    "import torch\n",
    "\n",
    "import torch.nn as nn\n",
    "import torch.nn.functional as F\n",
    "import torch.optim as optim\n",
    "from torch.nn import Linear, NLLLoss, LogSoftmax, Sequential\n",
    "from torch.optim import Adam\n",
    "\n",
    "from models import Cnn14_scatter\n",
    "from data_generator import monoDataset\n",
    "\n",
    "from kymatio import Scattering1D"
   ]
  },
  {
   "cell_type": "code",
   "execution_count": 2,
   "metadata": {},
   "outputs": [],
   "source": [
    "DATA_ROOT = '/home/laura/monophonic/data'\n",
    "\n",
    "train_npz_path=DATA_ROOT+'/train.npz'\n",
    "test_npz_path=DATA_ROOT+'/test.npz'\n",
    "\n",
    "train_dataset = monoDataset(npz_path=train_npz_path, audio_length=220500, classes_num=7)\n",
    "train_loader = torch.utils.data.DataLoader(\n",
    "    train_dataset,\n",
    "    batch_size=32,\n",
    "    num_workers=8,\n",
    "    shuffle=True\n",
    ")\n",
    "\n",
    "test_dataset = monoDataset(npz_path=test_npz_path, audio_length=220500, classes_num=7)\n",
    "test_loader = torch.utils.data.DataLoader(\n",
    "    test_dataset,\n",
    "    batch_size=32,\n",
    "    num_workers=8,\n",
    "    shuffle=True\n",
    ")"
   ]
  },
  {
   "cell_type": "code",
   "execution_count": 3,
   "metadata": {},
   "outputs": [],
   "source": [
    "T = 110250\n",
    "J = 6\n",
    "Q = 8\n",
    "num_classes=7\n",
    "log_eps = 1e-6"
   ]
  },
  {
   "cell_type": "code",
   "execution_count": 4,
   "metadata": {},
   "outputs": [
    {
     "data": {
      "text/plain": [
       "<kymatio.scattering1d.scattering1d.Scattering1D at 0x7fc53c434810>"
      ]
     },
     "execution_count": 4,
     "metadata": {},
     "output_type": "execute_result"
    }
   ],
   "source": [
    "scattering = Scattering1D(J, T, Q)\n",
    "scattering.cuda()"
   ]
  },
  {
   "cell_type": "code",
   "execution_count": 5,
   "metadata": {},
   "outputs": [],
   "source": [
    "# Number of epochs.\n",
    "num_epochs = 50\n",
    "# Learning rate for Adam.\n",
    "lr = 1e-4"
   ]
  },
  {
   "cell_type": "code",
   "execution_count": 6,
   "metadata": {},
   "outputs": [
    {
     "name": "stdout",
     "output_type": "stream",
     "text": [
      "Epoch 0, average loss = 1.463, accuracy = 0.438\n",
      "Epoch 1, average loss = 1.096, accuracy = 0.656\n",
      "Epoch 2, average loss = 0.941, accuracy = 0.781\n",
      "Epoch 3, average loss = 0.952, accuracy = 0.719\n",
      "Epoch 4, average loss = 0.635, accuracy = 0.906\n",
      "Epoch 5, average loss = 0.772, accuracy = 0.719\n",
      "Epoch 6, average loss = 0.710, accuracy = 0.750\n",
      "Epoch 7, average loss = 0.941, accuracy = 0.688\n",
      "Epoch 8, average loss = 0.445, accuracy = 0.906\n",
      "Epoch 9, average loss = 0.596, accuracy = 0.812\n",
      "Epoch 10, average loss = 0.506, accuracy = 0.938\n",
      "Epoch 11, average loss = 0.640, accuracy = 0.875\n",
      "Epoch 12, average loss = 0.414, accuracy = 0.906\n",
      "Epoch 13, average loss = 0.607, accuracy = 0.781\n",
      "Epoch 14, average loss = 0.376, accuracy = 0.875\n",
      "Epoch 15, average loss = 0.760, accuracy = 0.719\n",
      "Epoch 16, average loss = 0.440, accuracy = 0.906\n",
      "Epoch 17, average loss = 0.625, accuracy = 0.844\n",
      "Epoch 18, average loss = 0.513, accuracy = 0.812\n",
      "Epoch 19, average loss = 0.324, accuracy = 0.969\n",
      "Epoch 20, average loss = 0.465, accuracy = 0.906\n",
      "Epoch 21, average loss = 0.348, accuracy = 0.938\n",
      "Epoch 22, average loss = 0.317, accuracy = 0.969\n",
      "Epoch 23, average loss = 0.288, accuracy = 0.875\n",
      "Epoch 24, average loss = 0.362, accuracy = 0.906\n",
      "Epoch 25, average loss = 0.475, accuracy = 0.875\n",
      "Epoch 26, average loss = 0.446, accuracy = 0.875\n",
      "Epoch 27, average loss = 0.565, accuracy = 0.812\n",
      "Epoch 28, average loss = 0.414, accuracy = 0.875\n",
      "Epoch 29, average loss = 0.301, accuracy = 0.906\n",
      "Epoch 30, average loss = 0.323, accuracy = 0.938\n",
      "Epoch 31, average loss = 0.302, accuracy = 0.938\n",
      "Epoch 32, average loss = 0.222, accuracy = 0.969\n",
      "Epoch 33, average loss = 0.370, accuracy = 0.906\n",
      "Epoch 34, average loss = 0.342, accuracy = 0.938\n",
      "Epoch 35, average loss = 0.365, accuracy = 0.906\n",
      "Epoch 36, average loss = 0.226, accuracy = 0.969\n",
      "Epoch 37, average loss = 0.289, accuracy = 0.906\n",
      "Epoch 38, average loss = 0.286, accuracy = 0.906\n",
      "Epoch 39, average loss = 0.432, accuracy = 0.844\n",
      "Epoch 40, average loss = 0.318, accuracy = 0.906\n",
      "Epoch 41, average loss = 0.244, accuracy = 0.938\n",
      "Epoch 42, average loss = 0.269, accuracy = 0.906\n",
      "Epoch 43, average loss = 0.195, accuracy = 0.969\n",
      "Epoch 44, average loss = 0.186, accuracy = 0.938\n",
      "Epoch 45, average loss = 0.391, accuracy = 0.875\n",
      "Epoch 46, average loss = 0.508, accuracy = 0.812\n",
      "Epoch 47, average loss = 0.238, accuracy = 0.906\n",
      "Epoch 48, average loss = 0.292, accuracy = 0.906\n",
      "Epoch 49, average loss = 0.243, accuracy = 0.969\n"
     ]
    }
   ],
   "source": [
    "first = True\n",
    "\n",
    "for e in range(num_epochs):\n",
    "    for batch_data_dict in train_loader:\n",
    "\n",
    "        batch_input = batch_data_dict['waveform'].cuda()\n",
    "        batch_target = batch_data_dict['target'].cuda()\n",
    "        \n",
    "        y_tr = torch.argmax(batch_target,axis=1)\n",
    "        y_tr = y_tr.long()\n",
    "\n",
    "        Sx_tr = scattering.forward(batch_input)\n",
    "        Sx_tr = Sx_tr[:,1:,:]\n",
    "        Sx_tr = torch.log(torch.abs(Sx_tr) + log_eps)\n",
    "        Sx_tr = torch.mean(Sx_tr, dim=-1)\n",
    "\n",
    "        # This part is very wrong!!!\n",
    "        mu_tr = Sx_tr.mean(dim=0)\n",
    "        std_tr = Sx_tr.std(dim=0)\n",
    "        Sx_tr = (Sx_tr - mu_tr) / std_tr\n",
    "\n",
    "        if (first):\n",
    "            num_input = Sx_tr.shape[-1]\n",
    "            model = Sequential(Linear(num_input, num_classes), LogSoftmax(dim=1))\n",
    "            optimizer = Adam(model.parameters())\n",
    "            criterion = NLLLoss()\n",
    "            model.cuda()\n",
    "            criterion.cuda()\n",
    "            \n",
    "            first = False\n",
    "            \n",
    "        model.zero_grad()\n",
    "        resp = model.forward(Sx_tr)\n",
    "        loss = criterion(resp, y_tr)\n",
    "        loss.backward()\n",
    "        optimizer.step()\n",
    "        \n",
    "    # Calculate the response of the training data at the end of this epoch and\n",
    "    # the average loss.\n",
    "    resp = model.forward(Sx_tr)\n",
    "    avg_loss = criterion(resp, y_tr)\n",
    "\n",
    "    # Try predicting the classes of the signals in the training set and compute\n",
    "    # the accuracy.\n",
    "    y_hat = resp.argmax(dim=1)\n",
    "    accuracy = (y_tr == y_hat).float().mean()\n",
    "\n",
    "    print('Epoch {}, average loss = {:1.3f}, accuracy = {:1.3f}'.format(\n",
    "        e, avg_loss, accuracy))"
   ]
  },
  {
   "cell_type": "code",
   "execution_count": 8,
   "metadata": {},
   "outputs": [
    {
     "name": "stdout",
     "output_type": "stream",
     "text": [
      "TEST, average loss = 0.366, accuracy = 0.875\n"
     ]
    }
   ],
   "source": [
    "avg_acc = 0\n",
    "avg_loss_total = 0\n",
    "iteration = 0\n",
    "\n",
    "for batch_data_dict in test_loader:\n",
    "\n",
    "        batch_input = batch_data_dict['waveform'].cuda()\n",
    "        batch_target = batch_data_dict['target'].cuda()\n",
    "        \n",
    "        y_ts = torch.argmax(batch_target,axis=1)\n",
    "        y_ts = y_ts.long()\n",
    "\n",
    "        Sx_ts = scattering.forward(batch_input)\n",
    "        Sx_ts = Sx_ts[:,1:,:]\n",
    "        Sx_ts = torch.log(torch.abs(Sx_ts) + log_eps)\n",
    "        Sx_ts = torch.mean(Sx_ts, dim=-1)\n",
    "\n",
    "        Sx_ts = (Sx_ts - mu_tr) / std_tr\n",
    "\n",
    "        resp = model.forward(Sx_ts)\n",
    "        avg_loss = criterion(resp, y_ts)\n",
    "\n",
    "        # Try predicting the labels of the signals in the test data and compute the\n",
    "        # accuracy.\n",
    "        y_hat = resp.argmax(dim=1)\n",
    "        accu = (y_ts == y_hat).float().mean()\n",
    "        \n",
    "        avg_loss_total += avg_loss\n",
    "        avg_acc += accu\n",
    "        \n",
    "        iteration +=1\n",
    "\n",
    "print('TEST, average loss = {:1.3f}, accuracy = {:1.3f}'.format(\n",
    "        avg_loss_total/iteration, avg_acc/iteration))"
   ]
  }
 ],
 "metadata": {
  "kernelspec": {
   "display_name": "Python 3",
   "language": "python",
   "name": "python3"
  },
  "language_info": {
   "codemirror_mode": {
    "name": "ipython",
    "version": 3
   },
   "file_extension": ".py",
   "mimetype": "text/x-python",
   "name": "python",
   "nbconvert_exporter": "python",
   "pygments_lexer": "ipython3",
   "version": "3.7.4"
  }
 },
 "nbformat": 4,
 "nbformat_minor": 2
}
