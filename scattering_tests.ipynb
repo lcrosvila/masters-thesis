{
 "cells": [
  {
   "cell_type": "code",
   "execution_count": 1,
   "metadata": {},
   "outputs": [],
   "source": [
    "import os\n",
    "import sys\n",
    "\n",
    "import numpy as np\n",
    "import argparse\n",
    "import h5py\n",
    "import math\n",
    "import time\n",
    "import logging\n",
    "import matplotlib.pyplot as plt\n",
    "import torchvision\n",
    "from sklearn import metrics\n",
    "import _pickle as cPickle\n",
    "import shutil\n",
    "from tqdm.notebook import tqdm\n",
    "from IPython import display\n",
    "\n",
    "import torch\n",
    "\n",
    "import torch.nn as nn\n",
    "import torch.nn.functional as F\n",
    "import torch.optim as optim\n",
    "from torch.nn import Linear, Sequential, BCELoss, Softmax, BatchNorm1d\n",
    "from torch.optim import Adam\n",
    "\n",
    "from models import Cnn14_scatter\n",
    "from data_generator import monoDataset\n",
    "\n",
    "from kymatio import Scattering1D\n",
    "from data_split import split_dataset\n",
    "from sklearn.metrics import f1_score, precision_score, recall_score"
   ]
  },
  {
   "cell_type": "code",
   "execution_count": 2,
   "metadata": {},
   "outputs": [],
   "source": [
    "# split_dataset(0.8)"
   ]
  },
  {
   "cell_type": "code",
   "execution_count": 3,
   "metadata": {},
   "outputs": [],
   "source": [
    "def save_checkpoint(state, is_best, directory, filename='checkpoint.pth.tar'):\n",
    "    if not directory == None:\n",
    "        if not os.path.exists(directory):\n",
    "            os.makedirs(directory)\n",
    "\n",
    "        filename = os.path.join(directory, filename)\n",
    "        torch.save(state, filename)\n",
    "        if is_best:\n",
    "            shutil.copyfile(filename, os.path.join(directory,'model_best.pth.tar'))"
   ]
  },
  {
   "cell_type": "code",
   "execution_count": 4,
   "metadata": {},
   "outputs": [],
   "source": [
    "DATA_ROOT = '/home/laura/thesis/data'\n",
    "\n",
    "train_npz_path=DATA_ROOT+'/train.npz'\n",
    "val_npz_path=DATA_ROOT+'/val.npz'\n",
    "test_npz_path=DATA_ROOT+'/test.npz'\n",
    "\n",
    "train_dataset = monoDataset(npz_path=train_npz_path, audio_length=110250, classes_num=7)\n",
    "train_loader = torch.utils.data.DataLoader(\n",
    "    train_dataset,\n",
    "    batch_size=32,\n",
    "    num_workers=os.cpu_count(),\n",
    "    shuffle=True\n",
    ")\n",
    "\n",
    "val_dataset = monoDataset(npz_path=val_npz_path, audio_length=110250, classes_num=7)\n",
    "val_loader = torch.utils.data.DataLoader(\n",
    "    val_dataset,\n",
    "    batch_size=1,\n",
    "    num_workers=os.cpu_count(),\n",
    "    shuffle=True\n",
    ")\n",
    "\n",
    "test_dataset = monoDataset(npz_path=test_npz_path, audio_length=110250, classes_num=7)\n",
    "test_loader = torch.utils.data.DataLoader(\n",
    "    test_dataset,\n",
    "    batch_size=1,\n",
    "    num_workers=os.cpu_count(),\n",
    "    shuffle=True\n",
    ")"
   ]
  },
  {
   "cell_type": "code",
   "execution_count": 5,
   "metadata": {},
   "outputs": [],
   "source": [
    "def evaluate(model, scattering, loader, loss_func, threshold):\n",
    "    total_loss = 0.0\n",
    "    batches_target = []\n",
    "    batches_pred = []\n",
    "    \n",
    "    for batch_data_dict in loader:\n",
    "        batch_input = batch_data_dict['waveform'].cuda()\n",
    "        batch_target = batch_data_dict['target'].cuda()\n",
    "\n",
    "        Sx_tr = scattering.forward(batch_input)\n",
    "        # We take first and second-order coef\n",
    "        Sx_tr = Sx_tr[:,1:,:]\n",
    "        # We take only the first-order coef\n",
    "        #Sx_tr = Sx_tr[:,order1_indices,:]\n",
    "        Sx_tr = torch.log(torch.abs(Sx_tr) + log_eps)\n",
    "        Sx_tr = torch.mean(Sx_tr, dim=-1)\n",
    "        # Calculate the response of the training data at the end of this epoch and\n",
    "        # the average loss.\n",
    "        \n",
    "        resp = model.forward(Sx_tr)\n",
    "        loss = criterion(resp, batch_target)\n",
    "\n",
    "        guess = (resp.detach().cpu().numpy()[0] > threshold) * 1.0\n",
    "        true_labels = batch_target.detach().cpu().numpy()[0]\n",
    "        \n",
    "        total_loss += loss.item() * loader.batch_size\n",
    "        batches_target.append(true_labels)\n",
    "        batches_pred.append(guess)        \n",
    "\n",
    "    total_loss = total_loss / len(loader.dataset)\n",
    "\n",
    "    return total_loss, batches_target, batches_pred"
   ]
  },
  {
   "cell_type": "code",
   "execution_count": 6,
   "metadata": {},
   "outputs": [],
   "source": [
    "T = 110250\n",
    "J = 6\n",
    "Q = 8\n",
    "num_classes=7\n",
    "log_eps = 1e-6"
   ]
  },
  {
   "cell_type": "code",
   "execution_count": 7,
   "metadata": {},
   "outputs": [
    {
     "name": "stdout",
     "output_type": "stream",
     "text": [
      "tensor(38)\n",
      "tensor(125)\n"
     ]
    },
    {
     "data": {
      "text/plain": [
       "<kymatio.scattering1d.scattering1d.Scattering1D at 0x7fe14fe101d0>"
      ]
     },
     "execution_count": 7,
     "metadata": {},
     "output_type": "execute_result"
    }
   ],
   "source": [
    "scattering = Scattering1D(J, T, Q)\n",
    "meta = scattering.compute_meta_scattering(J, Q)\n",
    "order1_indices = (meta['order'] == 1)\n",
    "order2_indices = (meta['order'] == 2)\n",
    "print(sum(order1_indices*1))\n",
    "print(sum(order1_indices*1)+sum(order2_indices*1))\n",
    "scattering.cuda()"
   ]
  },
  {
   "cell_type": "code",
   "execution_count": 8,
   "metadata": {},
   "outputs": [],
   "source": [
    "# Number of epochs.\n",
    "num_epochs = 200\n",
    "\n",
    "directory_save = '/home/laura/thesis/models/second_order/1'"
   ]
  },
  {
   "cell_type": "code",
   "execution_count": 9,
   "metadata": {},
   "outputs": [],
   "source": [
    "checkpoint = None\n",
    "#checkpoint = torch.load(os.path.join(directory_save, 'checkpoint.pth.tar'))"
   ]
  },
  {
   "cell_type": "code",
   "execution_count": 10,
   "metadata": {
    "scrolled": true
   },
   "outputs": [
    {
     "name": "stdout",
     "output_type": "stream",
     "text": [
      "Epoch 199, val loss = 0.042, F1: 0.943, Precision: 0.932, Recall: 0.955\n"
     ]
    }
   ],
   "source": [
    "first = True\n",
    "weight_updates = 0\n",
    "threshold = 0.5\n",
    "min_loss_val = 10000\n",
    "losses_train = []\n",
    "losses_val = []\n",
    "\n",
    "e = 0\n",
    "\n",
    "while e < num_epochs:\n",
    "    running_loss = 0.0\n",
    "    \n",
    "    for batch_data_dict in train_loader:\n",
    "\n",
    "        batch_input = batch_data_dict['waveform'].cuda()\n",
    "        batch_target = batch_data_dict['target'].cuda()\n",
    "        \n",
    "        Sx_tr = scattering.forward(batch_input)\n",
    "        # We take first and second-order coef\n",
    "        Sx_tr = Sx_tr[:,1:,:]\n",
    "        # We take only the first-order coef\n",
    "        #Sx_tr = Sx_tr[:,order1_indices,:]\n",
    "        Sx_tr = torch.log(torch.abs(Sx_tr) + log_eps)\n",
    "        Sx_tr = torch.mean(Sx_tr, dim=-1)\n",
    "\n",
    "        if (first):            \n",
    "            num_input = Sx_tr.shape[-1]\n",
    "            model = Sequential(nn.BatchNorm1d(num_input), Linear(num_input, num_classes), Softmax(dim=1))\n",
    "            optimizer = Adam(model.parameters())\n",
    "            criterion = BCELoss()\n",
    "            model.cuda()\n",
    "            \n",
    "            criterion.cuda()\n",
    "            if checkpoint != None:\n",
    "                model.load_state_dict(checkpoint['state_dict'])\n",
    "                optimizer.load_state_dict(checkpoint['optimizer'])\n",
    "                e = checkpoint['epoch'] - 1\n",
    "                weight_updates = checkpoint['weight_updates']\n",
    "                losses_train = checkpoint['train_losses']\n",
    "                losses_val = checkpoint['val_losses']\n",
    "                test_loss = checkpoint['test_loss']\n",
    "                test_f1 = checkpoint['test_f1']\n",
    "                test_precision = checkpoint['test_precision']\n",
    "                test_recall = checkpoint['test_recall']\n",
    "                min_loss_val = min(losses_val)\n",
    "                \n",
    "            first = False\n",
    "            \n",
    "        resp = model.forward(Sx_tr)\n",
    "        loss = criterion(resp, batch_target)\n",
    "\n",
    "        # Backward\n",
    "        loss.backward()\n",
    "        running_loss += loss.item() * train_loader.batch_size\n",
    "        \n",
    "        optimizer.step()\n",
    "        optimizer.zero_grad()\n",
    "        weight_updates += 1\n",
    "    \n",
    "    epoch_loss = running_loss / len(train_dataset)\n",
    "    losses_train.append(epoch_loss)\n",
    "    \n",
    "    display.clear_output(wait=True)\n",
    "    \n",
    "    print('Epoch', e, ',  Train loss:', epoch_loss, end='\\r')\n",
    "    model.eval()\n",
    "    \n",
    "    val_loss, batches_target, batches_pred = evaluate(model, scattering, val_loader, criterion, threshold)\n",
    "\n",
    "    losses_val.append(val_loss)\n",
    "    val_f1 = f1_score(batches_pred, batches_target, average='weighted')\n",
    "    val_precision = precision_score(batches_pred, batches_target, average='weighted')\n",
    "    val_recall = recall_score(batches_pred, batches_target, average='weighted')\n",
    "    \n",
    "    print('Epoch {}, val loss = {:1.3f}, F1: {:1.3f}, Precision: {:1.3f}, Recall: {:1.3f}'.format(\n",
    "        e, val_loss, val_f1, val_precision, val_recall))\n",
    "          \n",
    "    is_best = False\n",
    "    \n",
    "    if min_loss_val > val_loss:\n",
    "        min_loss_val = val_loss\n",
    "        test_loss, batches_target, batches_pred = evaluate(model, scattering, \n",
    "                                                           test_loader, criterion, threshold)\n",
    "        test_f1 = f1_score(batches_pred, batches_target, average='weighted')\n",
    "        test_precision = precision_score(batches_pred, batches_target, average='weighted')\n",
    "        test_recall = recall_score(batches_pred, batches_target, average='weighted')\n",
    "        is_best = True\n",
    "        print('TEST epoch best {}, loss = {:1.3f}, F1: {:1.3f}, Precision: {:1.3f}, Recall: {:1.3f}'.format(\n",
    "            e, test_loss, test_f1, test_precision, test_recall))\n",
    "    \n",
    "    save_checkpoint(\n",
    "        {\n",
    "            \"epoch\": e + 1,\n",
    "            \"weight_updates\": weight_updates,\n",
    "            \"state_dict\": model.state_dict(),\n",
    "            \"train_losses\": losses_train,\n",
    "            \"val_losses\": losses_val,\n",
    "            \"test_loss\": test_loss,\n",
    "            \"val_f1\": val_f1,\n",
    "            \"test_f1\": test_f1,\n",
    "            \"val_precision\": val_precision,\n",
    "            \"test_precision\": test_precision,\n",
    "            \"val_recall\": val_recall,\n",
    "            \"test_recall\": test_recall,\n",
    "            \"optimizer\": optimizer.state_dict(),\n",
    "        },\n",
    "        is_best,\n",
    "        directory_save,\n",
    "    )\n",
    "    \n",
    "    e += 1\n",
    "    \n",
    "    model.train()"
   ]
  },
  {
   "cell_type": "code",
   "execution_count": 11,
   "metadata": {},
   "outputs": [
    {
     "name": "stdout",
     "output_type": "stream",
     "text": [
      "TEST, loss = 0.029, F1: 0.968, Precision: 0.970, Recall: 0.968\n"
     ]
    }
   ],
   "source": [
    "print('TEST, loss = {:1.3f}, F1: {:1.3f}, Precision: {:1.3f}, Recall: {:1.3f}'.format(\n",
    "        test_loss, test_f1, test_precision, test_recall))"
   ]
  },
  {
   "cell_type": "code",
   "execution_count": 12,
   "metadata": {},
   "outputs": [
    {
     "data": {
      "image/png": "[encoded data removed]",
      "text/plain": [
       "<Figure size 432x288 with 1 Axes>"
      ]
     },
     "metadata": {
      "needs_background": "light"
     },
     "output_type": "display_data"
    }
   ],
   "source": [
    "plt.plot(losses_train, 'g')\n",
    "plt.plot(losses_val)\n",
    "plt.show()"
   ]
  },
  {
   "cell_type": "code",
   "execution_count": 13,
   "metadata": {},
   "outputs": [
    {
     "name": "stdout",
     "output_type": "stream",
     "text": [
      "Sequential(\n",
      "  (0): BatchNorm1d(125, eps=1e-05, momentum=0.1, affine=True, track_running_stats=True)\n",
      "  (1): Linear(in_features=125, out_features=7, bias=True)\n",
      "  (2): Softmax(dim=1)\n",
      ")\n"
     ]
    }
   ],
   "source": [
    "print(model)"
   ]
  },
  {
   "cell_type": "code",
   "execution_count": 14,
   "metadata": {},
   "outputs": [],
   "source": [
    "def plot_weight(tensor):\n",
    "    fig, ax = plt.subplots(figsize=(30, 50))\n",
    "    im = ax.imshow(tensor.cpu())\n",
    "\n",
    "    ax.set_ylim([-0.5,6.5])\n",
    "    ax.set_yticks(np.arange(7))\n",
    "    ax.set_yticklabels(['Gt', 'Pn', 'Co', 'Cl', 'Ob', 'Tr', 'Vl'])\n",
    "    ax.set_ylabel('Instrument')\n",
    "    ax.set_xlabel('Scattering coefficient')\n",
    "    ax.set_title('Trained weights for the different scattering coefficients')\n",
    "    plt.show()"
   ]
  },
  {
   "cell_type": "code",
   "execution_count": 15,
   "metadata": {},
   "outputs": [
    {
     "data": {
      "image/png": "[encoded data removed]",
      "text/plain": [
       "<Figure size 2160x3600 with 1 Axes>"
      ]
     },
     "metadata": {
      "needs_background": "light"
     },
     "output_type": "display_data"
    }
   ],
   "source": [
    "for param in model.parameters():\n",
    "    if len(param.data.shape)==2:\n",
    "        plot_weight(param.data)"
   ]
  }
 ],
 "metadata": {
  "kernelspec": {
   "display_name": "Python 3",
   "language": "python",
   "name": "python3"
  },
  "language_info": {
   "codemirror_mode": {
    "name": "ipython",
    "version": 3
   },
   "file_extension": ".py",
   "mimetype": "text/x-python",
   "name": "python",
   "nbconvert_exporter": "python",
   "pygments_lexer": "ipython3",
   "version": "3.7.4"
  }
 },
 "nbformat": 4,
 "nbformat_minor": 2
}
